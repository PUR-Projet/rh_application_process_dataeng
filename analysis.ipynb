{
 "cells": [
  {
   "cell_type": "code",
   "execution_count": 3,
   "metadata": {},
   "outputs": [
    {
     "name": "stdout",
     "output_type": "stream",
     "text": [
      "(-70.745667, -11.373664, 17.5, 8.41, 'Willow', 'Sebastian', 'Rodriguez', 2635386501975162275, 'fbc99d73-39c1-5eb5-ae24-01ec404a1ced', 11.83, '2024-03-10 12:41:25', datetime.date(1970, 8, 18), 'Salix')\n",
      "(-70.783475, -11.498483, 24.27, 4.8, 'Oak', 'Rosa', 'Flores', 5672544364736011082, '8b5caefc-b085-52a2-b544-e073c07d02d1', 9.67, '2024-03-19 03:40:26', datetime.date(1971, 5, 10), 'Quercus')\n",
      "(-70.659988, -11.529104, 29.32, None, 'Palm', 'Alejandro', 'Sanchez', 4255587117675914340, '1b53f3f4-0939-56d8-90ef-07e54ddf9dec', 1.24, '2024-03-20 14:13:08', datetime.date(1971, 1, 6), 'Arecaceae')\n",
      "(-70.679566, -11.523698, 2.86, 2.67, 'Pine', 'Juan', 'Lopez', 4099668841919594811, '983774f9-1e9f-532c-a41d-154fcce78619', 1.68, '2024-03-15 07:59:54', datetime.date(1970, 12, 24), 'Pinus')\n",
      "(-70.682492, -11.547476, 8.1, 9.99, 'Palm', 'Carlos', 'Sanchez', 6149453669332179237, '724cd6b5-9616-5175-bb44-fa12baed3546', 167.87, '2024-03-05 10:44:33', datetime.date(1971, 6, 20), 'Arecaceae')\n"
     ]
    }
   ],
   "source": [
    "import psycopg2\n",
    "\n",
    "db_host = \"\"\n",
    "db_port = \"\"\n",
    "db_name = \"\"\n",
    "db_user = \"\"\n",
    "db_password = \"\"\n",
    "\n",
    "# Establish a connection to the PostgreSQL database\n",
    "conn = psycopg2.connect(\n",
    "    host=db_host,\n",
    "    port=db_port,\n",
    "    dbname=db_name,\n",
    "    user=db_user,\n",
    "    password=db_password\n",
    ")\n",
    "\n",
    "cur = conn.cursor()\n",
    "cur.execute(\"SELECT * FROM raw_data LIMIT 5\")\n",
    "results = cur.fetchall()\n",
    "\n",
    "for row in results:\n",
    "    print(row)"
   ]
  },
  {
   "cell_type": "markdown",
   "metadata": {},
   "source": [
    "**<span style=\"color:red;\">Please remember to respond to the questions in the readme.md file as well and good luck :)</span>**"
   ]
  },
  {
   "cell_type": "markdown",
   "metadata": {},
   "source": [
    "# DATA QUALITY"
   ]
  },
  {
   "cell_type": "markdown",
   "metadata": {},
   "source": [
    "### Question 1\n",
    "In the dataset provided to you, the focus is on trees, farmers, and parcels. At PUR, our primary activity involves planting trees on parcels owned by farmers. This gives you an opportunity to examine data similar to what you would encounter if you eventually join us.\n",
    "\n",
    "How can you evaluate the quality of the data you have received ? Provide a quick analysis using the tool(s) / libraries of your choice."
   ]
  },
  {
   "cell_type": "code",
   "execution_count": null,
   "metadata": {},
   "outputs": [],
   "source": []
  },
  {
   "cell_type": "markdown",
   "metadata": {},
   "source": [
    "### Question 2\n",
    "\n",
    "One of the column is provided with sparse information.\n",
    "\n",
    "What could be a strategy to handle this situation ? Implement it here (you do not have to persist this solution in the database)."
   ]
  },
  {
   "cell_type": "code",
   "execution_count": null,
   "metadata": {},
   "outputs": [],
   "source": []
  },
  {
   "cell_type": "markdown",
   "metadata": {},
   "source": [
    "# DATA ANALYSIS"
   ]
  },
  {
   "cell_type": "markdown",
   "metadata": {},
   "source": [
    "#### Question 3\n",
    "The marketing department seeks information on the total count of farmers and parcels participating in this project.\n",
    "\n",
    "What output could you provide them to give the best insight about this problematic ?"
   ]
  },
  {
   "cell_type": "code",
   "execution_count": null,
   "metadata": {},
   "outputs": [],
   "source": []
  },
  {
   "cell_type": "markdown",
   "metadata": {},
   "source": [
    "#### Question 4\n",
    "One of our agroforestry expert is wondering if there's a correlation between the weidth and the height of a tree.\n",
    "\n",
    "Can you provide an answer to her?"
   ]
  },
  {
   "cell_type": "code",
   "execution_count": null,
   "metadata": {},
   "outputs": [],
   "source": []
  },
  {
   "cell_type": "markdown",
   "metadata": {},
   "source": [
    "#### Question 5\n",
    "At PUR, our mission is to accelerate biodiversity regeneration through strategic tree planting. A key factor in this effort is identifying which tree species exhibit the most significant growth over time, as this can influence our planting decisions.\n",
    "\n",
    "Therefore, we're interested in understanding the growth patterns of these species. Could you analyze this data to identify which species demonstrates the highest growth rate? For the purpose of this analysis, consider that a species is considered to be growing if its height and/or width increases over time.\n",
    "\n",
    "Please provide an analysis that ranks the tree species by their growth rate, helping us to pinpoint the species that could contribute most effectively to our biodiversity regeneration efforts"
   ]
  },
  {
   "cell_type": "code",
   "execution_count": null,
   "metadata": {},
   "outputs": [],
   "source": []
  },
  {
   "cell_type": "markdown",
   "metadata": {},
   "source": [
    "### Question 6 (Bonus) - ONLY IF YOU APPLIED TO THE DATA/BI ENGINEERING POSITION\n",
    "\n",
    "The client who is financing this agroforestry project is asking you to display a map where he could:\n",
    "- Vizualize **the location** of the planted trees\n",
    "- Distinguish the trees by **height**\n",
    "\n",
    "\n",
    "Can you create such visualization using the tool(s) / libraries of your choice."
   ]
  },
  {
   "cell_type": "code",
   "execution_count": null,
   "metadata": {},
   "outputs": [],
   "source": []
  },
  {
   "cell_type": "markdown",
   "metadata": {},
   "source": [
    "### Question 6 (Bonus) - ONLY IF YOU APPLIED TO THE CONFIRMED DATA-ENGINEERING POSITION\n",
    "\n",
    "Using Python and any framework of your choice, can you create an endpoint that allows us to query the number of parcels associated with a specific farmer.\n",
    "\n",
    "We expect a response that looks like below but feel free to add any relevant information in this payload. For your information, the response_id is a randomly generated UUID."
   ]
  },
  {
   "cell_type": "code",
   "execution_count": null,
   "metadata": {},
   "outputs": [],
   "source": [
    "{\n",
    "    \"parcels\": [\n",
    "        {id: \"4f2cd9d6-5db6-5081-92a5-517f1b92949a\"},\n",
    "        {id: \"1005a79a-4349-57a0-af7f-9908d7645291\"}\n",
    "    ],\n",
    "    \"reponse_id\": \"0cc12fda-deca-4f24-918b-f0884d2bb910\"\n",
    "    \"total\": 2\n",
    "}"
   ]
  },
  {
   "cell_type": "code",
   "execution_count": null,
   "metadata": {},
   "outputs": [],
   "source": []
  },
  {
   "cell_type": "code",
   "execution_count": null,
   "metadata": {},
   "outputs": [],
   "source": [
    "cur.close()\n",
    "conn.close()"
   ]
  }
 ],
 "metadata": {
  "kernelspec": {
   "display_name": "Python 3.10.8 64-bit",
   "language": "python",
   "name": "python3"
  },
  "language_info": {
   "codemirror_mode": {
    "name": "ipython",
    "version": 3
   },
   "file_extension": ".py",
   "mimetype": "text/x-python",
   "name": "python",
   "nbconvert_exporter": "python",
   "pygments_lexer": "ipython3",
   "version": "3.10.8"
  },
  "vscode": {
   "interpreter": {
    "hash": "7e1998ff7f8aa20ada591c520b972326324e5ea05489af9e422744c7c09f6dad"
   }
  }
 },
 "nbformat": 4,
 "nbformat_minor": 2
}
